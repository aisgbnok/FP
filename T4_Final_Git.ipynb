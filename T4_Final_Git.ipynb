{
 "cells": [
  {
   "cell_type": "markdown",
   "metadata": {
    "id": "bi9g4y3b8Na3"
   },
   "source": [
    "# T4 - Final Project\n",
    "\n",
    "Semester 2221, CSEC 520/620, Team 4\\\n",
    "Final Project - URL Classification\\\n",
    "Due by December 14, 2022 11:59 PM EST.\\\n",
    "Accounts for 18% of total grade."
   ]
  },
  {
   "cell_type": "code",
   "execution_count": 1,
   "metadata": {
    "colab": {
     "base_uri": "https://localhost:8080/"
    },
    "id": "CjXlgYCY-C3X",
    "outputId": "49456a88-dc62-4398-bd5a-3fcc9448d2a2"
   },
   "outputs": [
    {
     "name": "stdout",
     "output_type": "stream",
     "text": [
      "####################################\n",
      "## Installing Packages #############\n",
      "####################################\n",
      "Requirement already satisfied: python-whois in c:\\users\\anthony\\documents\\venvs\\t4-project\\lib\\site-packages (0.8.0)\n",
      "Requirement already satisfied: future in c:\\users\\anthony\\documents\\venvs\\t4-project\\lib\\site-packages (from python-whois) (0.18.2)\n",
      "\n",
      "####################################\n",
      "## Updating Repository #############\n",
      "####################################\n",
      "Reinitialized existing Git repository in C:/Users/Anthony/Documents/T4-Project/.git/\n"
     ]
    },
    {
     "name": "stderr",
     "output_type": "stream",
     "text": [
      "error: remote origin already exists.\n"
     ]
    },
    {
     "name": "stdout",
     "output_type": "stream",
     "text": [
      "Already up to date.\n"
     ]
    },
    {
     "name": "stderr",
     "output_type": "stream",
     "text": [
      "From https://github.com/aisgbnok/T4-Project\n",
      " * branch            main       -> FETCH_HEAD\n"
     ]
    }
   ],
   "source": [
    "# Ensure the WHOIS package is installed\n",
    "print(f'{\"\":#^{36}}\\n{\"## Installing Packages \":#<{36}}\\n{\"\":#^{36}}')\n",
    "!pip install python-whois\n",
    "\n",
    "# Download our repo, which contains the RAW datasets\n",
    "print(f'\\n{\"\":#^{36}}\\n{\"## Updating Repository \":#<{36}}\\n{\"\":#^{36}}')\n",
    "!git init\n",
    "!git remote add origin https://github.com/aisgbnok/T4-Project.git\n",
    "!git pull origin main --allow-unrelated-histories"
   ]
  },
  {
   "cell_type": "code",
   "execution_count": 2,
   "metadata": {
    "id": "aBTTS1_y8-HY"
   },
   "outputs": [],
   "source": [
    "import os\n",
    "import pandas as pd\n",
    "import whois"
   ]
  },
  {
   "cell_type": "code",
   "execution_count": 3,
   "metadata": {
    "colab": {
     "base_uri": "https://localhost:8080/"
    },
    "id": "seNV-O1UyO9q",
    "outputId": "02ef0b36-437d-4337-9862-993a1ac70266"
   },
   "outputs": [],
   "source": [
    "def load_data(seed=75, output=False, save=False):\n",
    "  \"\"\"\n",
    "  Loads our separate dataframes and merges them together.\n",
    "  Ensures the columns are equal, normalizes the labels,\n",
    "  and finally shuffles the columns using the seed.\n",
    "\n",
    "  :param seed: Integer value that ensures reproduction of resulting dataframe.\n",
    "  :param output: Whether to print dataframes or not. True or False.\n",
    "  :param save: Whether to save the pandas dataframe. Can be False (default), 'CSV', or 'PICKLE'.\n",
    "  :return: A pandas dataframe that contains a url and label column.\n",
    "           The label column is 0 for benign and 1 for malicious.\n",
    "  \"\"\"\n",
    "  # Get all of our datasets\n",
    "  df_aj = pd.read_csv(os.path.join('datasets', 'urls-antonyj.csv'))\n",
    "  df_ms = pd.read_csv(os.path.join('datasets', 'urls-manu-siddhartha.csv'))\n",
    "\n",
    "  if output:\n",
    "    print(f'{\"\":#^{36}}\\n{\"## Original \":#<{36}}\\n{\"\":#^{36}}')\n",
    "    print('## urls-antonyj.csv')\n",
    "    display(df_aj)\n",
    "    print('## urls-manu-siddhartha.csv')\n",
    "    display(df_ms)\n",
    "\n",
    "  # Ensure Columns Match\n",
    "  df_ms.columns = df_aj.columns\n",
    "\n",
    "  # Merge dataframes\n",
    "  df = pd.merge(df_aj, df_ms, how='outer', on='url')\n",
    "\n",
    "  # Normalize Data, 1 is malicious, 0 is benign\n",
    "  df['label_x'] = (df['label_x'] == 'bad').astype(int)\n",
    "  df['label_y'] = (df['label_y'] != 'benign').astype(int)\n",
    "\n",
    "  # Combine labels\n",
    "  df.label_x.fillna(df.label_y, inplace=True)\n",
    "  df = df.rename(columns={'label_x': 'label'})\n",
    "  df = df.drop('label_y', axis=1)\n",
    "\n",
    "  # Keep first exact matches\n",
    "  df = df.drop_duplicates()\n",
    "\n",
    "  # Drop all duplicate urls with different types; bad data\n",
    "  df = df.drop_duplicates(subset='url', keep=False)\n",
    "\n",
    "  # Shuffle using seed value\n",
    "  df = df.sample(frac=1, random_state=seed)\n",
    "\n",
    "  # Reset Index\n",
    "  df = df.reset_index(drop=True)\n",
    "\n",
    "  if output:\n",
    "    print(f'{\"\":#^{36}}\\n{\"## Resulting \":#<{36}}\\n{\"\":#^{36}}')\n",
    "    print('## urls-antonyj.csv')\n",
    "    display(df_aj)\n",
    "    print('## urls-manu-siddhartha.csv')\n",
    "    display(df_ms)\n",
    "    print('## Final')\n",
    "    display(df)\n",
    "\n",
    "  if save == 'PICKLE':\n",
    "    df.to_pickle('datasets/t4-dataset.zip')\n",
    "  elif save == 'CSV':\n",
    "    df.to_csv('datasets/t4-dataset.csv')\n",
    "\n",
    "  return df"
   ]
  },
  {
   "cell_type": "code",
   "execution_count": 4,
   "metadata": {
    "colab": {
     "base_uri": "https://localhost:8080/",
     "height": 424
    },
    "id": "fapHNhzsKRIE",
    "outputId": "ce0cdb28-e95e-4d51-e6e0-1bc055c66765"
   },
   "outputs": [],
   "source": [
    "dataset = load_data()"
   ]
  },
  {
   "cell_type": "code",
   "execution_count": null,
   "metadata": {
    "id": "-23UmvftFymN"
   },
   "outputs": [],
   "source": [
    "import threading\n",
    "\n",
    "\n",
    "#multithreading the data set\n",
    "def multithreading():\n",
    "  perc = 0.0\n",
    "  threads = []\n",
    "  max_threads = 10\n",
    "  thread_num = 1\n",
    "  while perc < 1:\n",
    "    if len(threads) >= max_threads:\n",
    "      for thread in threads:\n",
    "        thread.join()\n",
    "        print(\"Thread \"+str(thread_num)+\" done\")\n",
    "        thread_num+=1\n",
    "    print(\"perc \"+str(perc))\n",
    "    thread = threading.Thread(target=checker, args=(perc*100, dataset.iloc[int(perc*len(dataset)):int((perc+0.01)*len(dataset))]))\n",
    "    thread.start()\n",
    "    threads.append(thread)\n",
    "    perc = perc + 0.01"
   ]
  },
  {
   "cell_type": "code",
   "execution_count": null,
   "metadata": {
    "id": "sld7LbyH99_H"
   },
   "outputs": [],
   "source": [
    "#numsection -> the percent into the data that it is\n",
    "#data -> the data of the current section\n",
    "def checker(numsection, data):\n",
    "  rows = []\n",
    "  for index, row in data.iterrows():\n",
    "    w = None\n",
    "    try:\n",
    "      w = whois.whois(data.iloc[index][\"url\"])\n",
    "    except:\n",
    "      continue\n",
    "    if w.domain_name != \"null\" and w.domain_name is not None:\n",
    "      rowdict = {}\n",
    "      rowdict[\"originalurl\"] = data.iloc[index][\"url\"]\n",
    "      rowdict.update(dict(w))\n",
    "      rows.append(rowdict)\n",
    "  whoisframe = pd.DataFrame(rows)\n",
    "  whoisframe.to_csv('csv/whoisdata' + str(numsection) + '.csv')\n",
    "  print(\"csv made\")"
   ]
  },
  {
   "cell_type": "code",
   "source": [
    "# Import the drive module from the Google Colab library\n",
    "from google.colab import drive\n",
    "\n",
    "# Mount your personal Google Drive\n",
    "drive.mount('/content/drive/')\n",
    "\n",
    "# Immediately change the current directory to the shared drive.\n",
    "# This will reduce the chance that your personal drive will be modified erroneously.\n",
    "os.chdir('/content/drive/Shareddrives/CSEC 620 Group 4/Final Project')"
   ],
   "metadata": {
    "id": "vEiC2csg0Mim"
   },
   "execution_count": null,
   "outputs": []
  },
  {
   "cell_type": "code",
   "execution_count": null,
   "metadata": {
    "id": "D17LNlWURSxW"
   },
   "outputs": [],
   "source": [
    "#multithreading()"
   ]
  },
  {
   "cell_type": "code",
   "execution_count": null,
   "metadata": {
    "colab": {
     "base_uri": "https://localhost:8080/"
    },
    "id": "QGBK5Xm71NnU",
    "outputId": "a4b6e056-5639-4267-a878-68ad606be0d7"
   },
   "outputs": [
    {
     "output_type": "stream",
     "name": "stderr",
     "text": [
      "/usr/local/lib/python3.8/dist-packages/IPython/core/interactiveshell.py:3326: DtypeWarning: Columns (48,55,82,84,86,87,88,89,90,91,92,93,94,95,96,97,105,106,107,108,111,112,118,119,124,125,126,131,139,146,147,148,149,150,151,152) have mixed types.Specify dtype option on import or set low_memory=False.\n",
      "  exec(code_obj, self.user_global_ns, self.user_ns)\n"
     ]
    }
   ],
   "source": [
    "os.chdir('/content/drive/Shareddrives/CSEC 620 Group 4/Final Project/csv')\n",
    "filelist = os.listdir('.')\n",
    "newframe = pd.DataFrame()\n",
    "for f in filelist:\n",
    "  if f.find('whoisdata') == 0:\n",
    "    currentframe = pd.read_csv(f)\n",
    "    newframe = pd.concat([newframe, currentframe], ignore_index=True)"
   ]
  },
  {
   "cell_type": "code",
   "execution_count": null,
   "metadata": {
    "colab": {
     "base_uri": "https://localhost:8080/"
    },
    "id": "_v_EXRYy5kwB",
    "outputId": "a1a526f0-8dc7-48d1-e10c-76cecd0ddcf8"
   },
   "outputs": [
    {
     "output_type": "stream",
     "name": "stdout",
     "text": [
      "2712\n",
      "3588\n"
     ]
    }
   ],
   "source": [
    "nummal = 0\n",
    "numbenign = 0\n",
    "for index, row in newframe.iterrows():\n",
    "  thisurl = row[\"originalurl\"]\n",
    "  mergedrow = dataset.loc[dataset[\"url\"] == thisurl]\n",
    "  benigncheck = mergedrow.iloc[0][\"label\"]\n",
    "  if benigncheck == \"good\":\n",
    "    numbenign = numbenign + 1\n",
    "  else:\n",
    "    nummal = nummal + 1\n",
    "print(nummal)\n",
    "print(numbenign)"
   ]
  },
  {
   "cell_type": "markdown",
   "source": [
    "# Splitting the data set"
   ],
   "metadata": {
    "id": "z9GkMk4Rsh8C"
   }
  },
  {
   "cell_type": "code",
   "source": [
    "splitVal = int(len(newframe)*.2)\n",
    "testing_set = newframe.iloc[:splitVal,]\n",
    "training_set = newframe.iloc[splitVal:,]"
   ],
   "metadata": {
    "id": "EVTNVs34qiMy"
   },
   "execution_count": null,
   "outputs": []
  },
  {
   "cell_type": "code",
   "source": [
    "countries = {}\n",
    "for index, row in training_set.iterrows():\n",
    "  rowcountry = row[\"country\"]\n",
    "  if rowcountry in countries.keys():\n",
    "    countries[rowcountry] = countries[rowcountry] + 1\n",
    "  else:\n",
    "    countries[rowcountry] = 1\n",
    "\n",
    "for c in countries:\n",
    "  print(c, countries[c])"
   ],
   "metadata": {
    "colab": {
     "base_uri": "https://localhost:8080/"
    },
    "id": "BR4f17jNYbSF",
    "outputId": "084d457b-3a3b-4f95-9135-1aba2c2b666f"
   },
   "execution_count": null,
   "outputs": [
    {
     "output_type": "stream",
     "name": "stdout",
     "text": [
      "US 2285\n",
      "nan 1953\n",
      "ID 2\n",
      "CN 125\n",
      "AU 8\n",
      "GB 69\n",
      "IS 92\n",
      "BG 12\n",
      "TR 4\n",
      "CM 1\n",
      "CA 127\n",
      "AT 2\n",
      "SG 5\n",
      "['CA', 'US'] 1\n",
      "CY 9\n",
      "SK 3\n",
      "BR 39\n",
      "LU 4\n",
      "SE 4\n",
      "JP 19\n",
      "UK 10\n",
      "KN 4\n",
      "PL 6\n",
      "IT 13\n",
      "DE 26\n",
      "REDACTED FOR PRIVACY 32\n",
      "IN 18\n",
      "Malaysia 1\n",
      "RU 9\n",
      "FR 23\n",
      "United States 2\n",
      "SI 1\n",
      "NZ 1\n",
      "Canada 2\n",
      "Austria 6\n",
      "CR 3\n",
      "KR 5\n",
      "ES 10\n",
      "HU 2\n",
      "RO 12\n",
      "HK 6\n",
      "KY 3\n",
      "PA 8\n",
      "cn 2\n",
      "SPAIN 1\n",
      "UA 1\n",
      "['CA', 'IT'] 2\n",
      "TH 3\n",
      "NL 9\n",
      "CZ 1\n",
      "AL 1\n",
      "IL 1\n",
      "SN 3\n",
      "EC 2\n",
      "MK 1\n",
      "SC 2\n",
      "BE 4\n",
      "['US', 'REDACTED FOR PRIVACY'] 1\n",
      "China 10\n",
      "VN 4\n",
      "ar 1\n",
      "PS 1\n",
      "CO 1\n",
      "MX 1\n",
      "HK,CN 1\n",
      "PT 3\n",
      "CH 6\n",
      "EE 1\n",
      "PK 1\n",
      "IR 6\n",
      "PH 1\n",
      "AE 1\n",
      "['Austria', 'Germany'] 1\n"
     ]
    }
   ]
  },
  {
   "cell_type": "code",
   "source": [
    "regs = {}\n",
    "for index, row in training_set.iterrows():\n",
    "  rowreg = row[\"registrar\"]\n",
    "  if rowreg in regs.keys():\n",
    "    regs[rowreg] = regs[rowreg] + 1\n",
    "  else:\n",
    "    regs[rowreg] = 1\n",
    "\n",
    "for r in regs:\n",
    "  print(r, regs[r])"
   ],
   "metadata": {
    "colab": {
     "base_uri": "https://localhost:8080/"
    },
    "outputId": "aa945f96-2e36-44ec-f0b4-bf604af12ee5",
    "id": "nqErv3frel3j"
   },
   "execution_count": null,
   "outputs": [
    {
     "output_type": "stream",
     "name": "stdout",
     "text": [
      "MarkMonitor Inc. 185\n",
      "GoDaddy.com, LLC 1506\n",
      "IONOS SE 22\n",
      "TurnCommerce, Inc. DBA NameBright.com 27\n",
      "MarkMonitor, Inc. 425\n",
      "Network Solutions, LLC 300\n",
      "Exonet B.V. 2\n",
      "TUCOWS, INC. 75\n",
      "Amazon Registrar, Inc. 82\n",
      "nan 223\n",
      "Tucows Domains Inc. 44\n",
      "CSC CORPORATE DOMAINS, INC. 184\n",
      "eName Technology Co.,Ltd. 4\n",
      "NAMECHEAP INC 126\n",
      "Ever Ready Names, Inc 3\n",
      "US Locality 2\n",
      "Moniker Online Services LLC 7\n",
      "easyDNS Technologies Inc. 12\n",
      "Webnames.ca Inc. 5\n",
      "FastDomain Inc. 15\n",
      "Hetzner Online GmbH 5\n",
      "Key-Systems GmbH 28\n",
      "SYNERGY WHOLESALE ACCREDITATIONS PTY LTD 2\n",
      "Alibaba Cloud Computing (Beijing) Co., Ltd. 215\n",
      "Wild West Domains, LLC 18\n",
      "DomainSpot LLC 3\n",
      "RegistrarSafe, LLC 82\n",
      "DNC Holdings, Inc 19\n",
      "ENOM, INC. 96\n",
      "Sea Wasp, LLC 19\n",
      "Google LLC 36\n",
      "Registrar.eu 5\n",
      "Hostinger, UAB 10\n",
      "ТОВ \"Центр Інтернет-Імен України\" 1\n",
      "1API GmbH 12\n",
      "KIFCORP 1\n",
      "GRANSY S.R.O D/B/A SUBREG.CZ 1\n",
      "Gname.com Pte. Ltd. 71\n",
      "MarkMonitor International Canada Ltd. 3\n",
      "EuroDNS S.A. 2\n",
      "NameCheap, Inc. 16\n",
      "Name.com, Inc. 25\n",
      "GoDaddy Corporate Domains, LLC 30\n",
      "2F Communication s.r.l. 1\n",
      "Ascio Technologies, Inc 2\n",
      "GMO INTERNET, INC. 15\n",
      "Epik Holdings Inc 7\n",
      "Aruba s.p.a. 11\n",
      "Safenames Ltd 8\n",
      "NameCase GmbH 3\n",
      "Hospedando.Com.Mx 1\n",
      "Netistrar Limited 1\n",
      "Authentic Web Inc. 3\n",
      "Cloudflare, Inc. 23\n",
      "THE NAME IT CORPORATION DBA NAMESERVICES.NET 1\n",
      "NOM-IQ Ltd dba Com Laude 7\n",
      "NameSilo, LLC 21\n",
      "ТОВ \"НІК.ЮЕЙ\" 1\n",
      "Rebel.ca Corp. 4\n",
      "OVH, SAS 12\n",
      "Register SpA 2\n",
      "Digital Registra 5\n",
      "REGTIME-RU 1\n",
      "REG-INTERNET-CZ 2\n",
      "Domain.com, LLC 38\n",
      "DYNADOT LLC 21\n",
      "SWAN, a. s. 2\n",
      "CSC Corporate Domains 5\n",
      "One.com A/S 6\n",
      "INWX GmbH 26\n",
      "Atak Domain Hosting Internet ve Bilgi Teknolojileri Limited Sirketi d/b/a Atak Teknoloji 1\n",
      "DropCatch.com 595 LLC 4\n",
      "H88 Web Hosting S.R.L. 1\n",
      "PDR Ltd. d/b/a PublicDomainRegistry.com 27\n",
      "Host s.p.a. 1\n",
      "上海贝锐信息科技股份有限公司 1\n",
      "WEBCC 1\n",
      "Pair Domains 5\n",
      "ZiD.com Division of ZYMOS Computer Systems Inc. 1\n",
      "Blacknight Solutions 3\n",
      "REG-ZONER 1\n",
      "Rebel.ca 1\n",
      "Regional Network Information Center, JSC dba RU-CENTER 2\n",
      "Web Address Registration Pty Ltd 3\n",
      "RU-CENTER-RU 8\n",
      "Eurologon s.r.l. 1\n",
      "Go Get Canada Domain Registrar Ltd. 3\n",
      "Easily Limited t/a easily.co.uk [Tag = WEBCONSULTANCY] 1\n",
      "Register.com, Inc. 23\n",
      "dot-ca-registry.ca (Burmac Business Systems Ltd) 6\n",
      "123-Reg Limited 12\n",
      "OwnRegistrar, Inc. 2\n",
      "REG-WEBSUPPORT 1\n",
      "TECNOCRATICA CENTRO DE DATOS, S.L. 3\n",
      "easyDNS Technologies, Inc. 9\n",
      "Blue Angel Domains LLC 2\n",
      "CSL Computer Service Langenbach GmbH d/b/a joker.com 6\n",
      "Instra Corporation Pty Ltd. 2\n",
      "EnCirca, Inc. 1\n",
      "Dreamscape Networks International Pte Ltd [Tag = DREAMSCAPE] 1\n",
      "WEBNAMES.CA INC 10\n",
      "Namescout.com 8\n",
      "RegistryGate GmbH ( https://nic.at/registrar/228 ) 2\n",
      "CSC Corporate Domains, Inc [Tag = CSC-CORP-DOMAINS] 6\n",
      "Hefei Juming Network Technology Co., Ltd. 2\n",
      "GoDaddy Online Services Cayman Islands Ltd. 18\n",
      "Tucows.com Co. 8\n",
      "TLD Registrar Solutions Ltd 4\n",
      "阿里云计算有限公司（万网） 3\n",
      "Internic.ca Inc. 4\n",
      "DIAMATRIX C.C. 1\n",
      "DropCatch.com 1482 LLC 1\n",
      "team.blue nl B.V. 8\n",
      "Whois Corp. 12\n",
      "Edomains LLC 1\n",
      "GoDaddy.com, LLC. [Tag = GODADDY] 6\n",
      "Communigal Communication Ltd 1\n",
      "DonDominio (SCIP) 3\n",
      "1 Api GmbH 1\n",
      "AXC 3\n",
      "Calico Internet Ltd t/a Calico UK [Tag = CALICO] 1\n",
      "GKG.NET, INC. 5\n",
      "GKG.Net, Inc. 9\n",
      "Heart Internet Ltd t/a eXtend [Tag = EXTEND] 1\n",
      "Tool Domains EOOD t/a Salestrar.com [Tag = SALESTRAR] 4\n",
      "InterNexum GmbH 1\n",
      "DropCatch.com 1094 LLC 1\n",
      "DropCatch.com 1246 LLC 1\n",
      "MMD Networks Oy 1\n",
      "Nics Telekomunikasyon A.S. 2\n",
      "DropCatch.com 1131 LLC 1\n",
      "Corporation Service Company 5\n",
      "Ledl.net GmbH ( https://nic.at/registrar/32 ) 2\n",
      "Simply.com 1\n",
      "NIC Chile 4\n",
      "Eurodns S.A. 9\n",
      "eNom, Inc. 8\n",
      "nicar 3\n",
      "Xin Net Technology Corporation 12\n",
      "Netregistry Pty Ltd 1\n",
      "Domena.pl sp. z o.o. 2\n",
      "DropCatch.com 971 LLC 1\n",
      "Paragon Internet Group Ltd [Tag = PARAGONINTERNET] 1\n",
      "Lexsynergy Limited 3\n",
      "PSI-USA, Inc. dba Domain Robot 11\n",
      "SPRINTNAMES-RU 2\n",
      "DropCatch.com 403 LLC 1\n",
      "Onlinenic Inc 7\n",
      "NAMECHEAP, INC. 2\n",
      "LIQUIDNET Ltd. 1\n",
      "CSC Corporate Domains, Inc. 5\n",
      "Loopia AB 2\n",
      "DREAMHOST 8\n",
      "REG-WEBGLOBE 1\n",
      "Wavecom AS 2\n",
      "JIANGSU BANGNING SCIENCE & TECHNOLOGY CO. LTD 1\n",
      "UK2 Limited [Tag = UK2NET] 1\n",
      "OnlineNIC, Inc. 1\n",
      "北京新网数码信息技术有限公司 4\n",
      "pair Networks, Inc. d/b/a pair Domains 1\n",
      "Nameshield SAS 1\n",
      "GANDI SAS 16\n",
      "nazwa.pl sp. z o.o. 6\n",
      "BareMetal.com inc 1\n",
      "Mesh Digital Limited 4\n",
      "THE REGISTRY AT INFO AVENUE 1\n",
      "DreamHost LLC 5\n",
      "Beget LLC 1\n",
      "123-Reg Limited t/a 123-reg [Tag = 123-REG] 13\n",
      "Globtel Internet Szymon Hersztek 1\n",
      "Bizcn.com,Inc. 2\n",
      "Tiger Technologies LLC 2\n",
      "TLDS L.L.C. d/b/a SRSPlus 4\n",
      "CSC Corporate Domains (Canada) Company 2\n",
      "Webtasy, d.o.o. 3\n",
      "Namesco Limited [Tag = NAMESCO] 3\n",
      "NS3 S.r.l. 2\n",
      "Center of Ukrainian Internet Names (UKRNAMES) 1\n",
      "DropCatch.com 1061 LLC 1\n",
      "Advanced Internet Technologies, Inc. (AIT) 2\n",
      "NetEarth One, Inc. 3\n",
      "CloudFlare, Inc. 7\n",
      "Namecheap, Inc. [Tag = NAMECHEAP-INC] 1\n",
      "DOMAINPEOPLE, INC. 3\n",
      "Porkbun, LLC 2\n",
      "Streams Telecommunicationsservices GmbH ( https://nic.at/registrar/248 ) 1\n",
      "Global Domain Name Trading Center Ltd 1\n",
      "Freemium Kft. 1\n",
      "007NAMES INC. 1\n",
      "Domeen OÜ 1\n",
      "Hong Kong Juming Network Technology Co., Ltd. 29\n",
      "DELTA Fiber Nederland B.V. 1\n",
      "Dynadot, LLC 2\n",
      "DropCatch.com 1235 LLC 2\n",
      "DropCatch.com 1007 LLC 1\n",
      "Endurance Digital Domain Technology LLP 2\n",
      "Websupport, s.r.o. 2\n",
      "Atak Domain 1\n",
      "A.R.C. Informatique Inc. 8\n",
      "Deluxe Small Business Sales, Inc. d/b/a Aplus.net 7\n",
      "NameSecure L.L.C. 2\n",
      "DropCatch.com 992 LLC 1\n",
      "GANDI 2\n",
      "Japan Registry Services Co.,Ltd.(JPRS) 2\n",
      "Internet Domain Service BS Corp 6\n",
      "TLD Registrar Solutions Ltd. 7\n",
      "Domain Registration Services, Inc. dba dotEarth.com 1\n",
      "ТОВ \"Інтернет Інвест\" 2\n",
      "REGISTER S.P.A. 3\n",
      "DomainTheNet.com 1\n",
      "Amazon.com, Inc. [Tag = AMAZON-COM] 3\n",
      "REGRU-RU 2\n",
      "Combell B.V. 1\n",
      "AKKY ONLINE SOLUTIONS, S.A. DE C.V. 1\n",
      "R01-RU 4\n",
      "Gabia, Inc.(http://www.gabia.co.kr) 1\n",
      "Hosting Concepts B.V. 2\n",
      "DropCatch.com 738 LLC 1\n",
      "Realtime Register 4\n",
      "DropCatch.com 1013 LLC 1\n",
      "Aerotek Bilisim Sanayi ve Ticaret AS 2\n",
      "REALTIME REGISTER B.V. 3\n",
      "REG-MOJEID 1\n",
      "eNom, LLC 5\n",
      "10DENCEHISPAHARD, S.L 1\n",
      "SNAPNAMES 35, LLC 1\n",
      "Enameco, LLC 2\n",
      "WHC Online Solutions Inc 1\n",
      "Hosting Concepts B.V. d/b/a Registrar.eu 8\n",
      "DomainSite, Inc. 1\n",
      "InterNetx GmbH [Tag = INTERNETX-DE] 1\n",
      "Eranet International Limited 14\n",
      "ТОВ “ІНТЕРНЕТ ІНВЕСТ” 2\n",
      "SAV.COM, LLC 2\n",
      "Coherent Limited [Tag = COHERENT-NZ] 2\n",
      "Instra Corporation Pty Ltd 3\n",
      "MA Healthcare Ltd [Tag = MAHEALTHCARE] 1\n",
      "One.com 1\n",
      "Digital IT Consulting SRL 2\n",
      "No registrar listed.  This domain is directly registered with Nominet. 6\n",
      "Cronon GmbH 2\n",
      "BARBERO & Associates Ltd 2\n",
      "URL SOLUTIONS INC. 2\n",
      "cool media, s. r. o. 1\n",
      "Grape Inc. 1\n",
      "Cronon AG 4\n",
      "British Broadcasting Corporation [Tag = BBC] 1\n",
      "Consulting Service Sp. z o.o. 1\n",
      "DropCatch.com 1512 LLC 1\n",
      "Gname 042 Inc 1\n",
      "Go Daddy Domains Canada, Inc 3\n",
      "DropCatch.com 493 LLC 1\n",
      "DropHub.com, LLC 1\n",
      "Nom-IQ Limited t/a Com Laude [Tag = NOMIQ] 3\n",
      "MAFF Inc. 37\n",
      "TFN 1\n",
      "DropCatch.com 1531 LLC 1\n",
      "DOMAIN NAME NETWORK PTY LTD 1\n",
      "Zone Media OÜ 1\n",
      "P.A. Viet Nam Company Limited 3\n",
      "dattatec.com SRL 1\n",
      "广州云讯信息科技有限公司 1\n",
      "Abo Net SRL 2\n",
      "GIP RENATER 2\n",
      "Namespro Solutions Inc. 2\n",
      "Inbrand AB 1\n",
      "1&1 IONOS SE 4\n",
      "FraJa WeB 2\n",
      "domainfactory GmbH 1\n",
      "DropCatch.com 1483 LLC 3\n",
      "Cosmotown, Inc. 1\n",
      "DropCatch.com 415 LLC 1\n",
      "Reliable Software, Ltd 1\n",
      "Info.at Internet GmbH 1\n",
      "Gabia, Inc. 3\n",
      "webCom Technology for Investment 1\n",
      "Namesilo, LLC 3\n",
      "! #1 Host Canada, LLC 1\n",
      "Easyspace Limited 1\n",
      "Zala Creative LTD 1\n",
      "Heart Internet Ltd t/a Heart Internet [Tag = HEARTINTERNET] 1\n",
      "NetEarth One Inc. d/b/a NetEarth 1\n",
      "Centraserve Ltd [Tag = CENTRASERVE] 1\n",
      "Xiamen 35.Com Technology Co., Ltd 1\n",
      "DropCatch.com 349 LLC 1\n",
      "NETIM 1\n",
      "DropCatch.com 1192 LLC 1\n",
      "CENTRALNIC CANADA INC 1\n",
      "Go Montenegro Domains, LLC 1\n",
      "RegistryGate GmbH 1\n",
      "BEGET-RU 1\n",
      "DropCatch.com 1213 LLC 1\n",
      "Misk.com, Inc. 2\n",
      "InterNetX GmbH 1\n",
      "Interbox Internet 2\n",
      "World4You Internet Services GmbH ( https://nic.at/registrar/61 ) 1\n",
      "Gandi SAS 3\n",
      "DropCatch.com 1073 LLC 1\n",
      "(Funio) - Miss Group Canada Inc 1\n",
      "Domainsofvalue.com LLC 1\n",
      "Arsys Internet, S.L. dba NICLINE.COM 3\n",
      "DNSPod, Inc. 2\n",
      "Hong Kong Domain Name Registration Company Limited 1\n",
      "Net-Chinese Co., Ltd. 1\n",
      "DropCatch.com 705 LLC 1\n",
      "Heavydomains.net LLC 1\n",
      "MyID.ca (Creative Pixels Inc.) 1\n",
      "West263 International Limited 1\n",
      "Puglia.com srls 1\n",
      "New Frontier, Inc. 1\n",
      "COREhub, S.R.L. 1\n",
      "Gandi Services Inc., Gandi SAS 2\n",
      "杭州电商互联科技有限公司（原杭州创业互联科技有限公司） 12\n",
      "DropCatch.com 1350 LLC 1\n",
      "CommuniGal Communication Ltd. 2\n",
      "ТОВ \"Геонiк Нет\" 3\n",
      "BB-Online UK Ltd [Tag = BBONLINE] 1\n",
      "CIRA Default Registrar 1\n",
      "ABOVE.COM PTY LTD. 1\n",
      "RegistrarSEC, LLC 1\n",
      "DropCatch.com 894 LLC 1\n",
      "NameSilo Technologies Corp. 1\n",
      "P R Heesom Limited t/a PRHL [Tag = PRHL] 1\n",
      "DropCatch.com 1423 LLC 1\n",
      "DomainProfi GmbH 1\n",
      "Porkbun LLC 1\n",
      "Dinahosting s.l. 1\n",
      "DropCatch.com 732 LLC 1\n",
      "Vodien Internet Solutions Pte Ltd 1\n",
      "DropCatch.com 1530 LLC 1\n",
      "WebReus 2\n",
      "State of Minnesota 1\n",
      "EPAG Domainservices GmbH 1\n",
      "OVH SAS 3\n",
      "ProtonDomains.com LLC 1\n",
      "https://www.101domain.com/ 3\n",
      "Dreamscape Networks International Pte Ltd 4\n",
      "Squarespace Domains LLC 1\n",
      "DropCatch.com 985 LLC 1\n",
      "Metaregistrar BV 2\n",
      "Paragon Internet Group Ltd 1\n",
      "Isimtescil Bilisim A.S. 1\n",
      "9xb Ltd t/a 9xb [Tag = 9XB] 1\n",
      "Domanregister.se 1\n",
      "Fastnet International Ltd [Tag = FASTNET] 1\n",
      "SALENAMES-RU 1\n",
      "DNC Holdings, Inc. 1\n",
      "SERVER PLAN SRL 1\n",
      "AZ.pl Sp. z o.o. 1\n",
      "eNom Canada Corp. 1\n",
      "ResellerCamp 1\n",
      "Dynadot5 LLC 1\n",
      "CNOBIN INFORMATION TECHNOLOGY LIMITED 1\n",
      "TUCOWS Inc t/a TUCOWS [Tag = TUCOWS-CA] 1\n",
      "DYNADOT, LLC 5\n",
      "Nexus Data Systems Ltd [Tag = KTHOSTING] 1\n",
      "DOT Holding, Inc 1\n",
      "Mijn InternetOplossing B.V. 1\n",
      "http.net Internet GmbH 1\n",
      "Launchpad, Inc. (HostGator) 1\n",
      "Fondation Restena 1\n",
      "CloudTree Limited [Tag = CLOUDTREE] 1\n",
      "Go France Domains, LLC 1\n",
      "DropCatch.com 923 LLC 1\n",
      "NIC.PE 2\n",
      "CommuniGal Communications Ltd. 2\n",
      "SIT Internetdiensten B.V. 2\n",
      "home.pl S.A. 1\n",
      "Loopia d.o.o. 1\n",
      "20i Ltd [Tag = STACK] 1\n",
      "INLEED 1\n",
      "ACTIVE-RU 2\n",
      "Aftermarket.pl Limited 2\n",
      "BigRock Solutions Ltd. 1\n",
      "DropCatch.com 430 LLC 1\n",
      "THNIC 1\n",
      "Alphanet sp. z o.o. 1\n",
      "ODTU Gelistirme Vakfi Bilgi Teknolojileri Sanayi Ve Ticaret Anonim Sirketi 1\n",
      "Proximus nv/sa 1\n",
      "domainfactory GmbH ( https://nic.at/registrar/202 ) 1\n",
      "Automattic Inc. 1\n",
      "PortsGroup AB 1\n",
      "ALIBABA.COM SINGAPORE E-COMMERCE PRIVATE LIMITED 1\n",
      "Reality s.r.l. 1\n"
     ]
    }
   ]
  },
  {
   "cell_type": "code",
   "source": [
    "dns = {}\n",
    "for index, row in training_set.iterrows():\n",
    "  rowdns = row[\"dnssec\"]\n",
    "  if rowdns in dns.keys():\n",
    "    dns[rowdns] = dns[rowdns] + 1\n",
    "  elif 'unsigned' in str(rowdns).lower() and (rowdns != 'unsigned'):\n",
    "    dns[\"unsigned\"] = dns[\"unsigned\"] + 1\n",
    "  else:\n",
    "    dns[rowdns] = 1\n",
    "\n",
    "for r in dns:\n",
    "  print(r, dns[r])"
   ],
   "metadata": {
    "colab": {
     "base_uri": "https://localhost:8080/"
    },
    "id": "eSGb60Upht_p",
    "outputId": "0c9614cc-606a-4232-c86a-970ee88cf4fd"
   },
   "execution_count": null,
   "outputs": [
    {
     "output_type": "stream",
     "name": "stdout",
     "text": [
      "unsigned 3867\n",
      "nan 1071\n",
      "yes 17\n",
      "signedDelegation 48\n",
      "Inactive 12\n",
      "Signed delegation 3\n",
      "no 19\n",
      "signed delegation 3\n"
     ]
    }
   ]
  },
  {
   "cell_type": "code",
   "source": [
    "from numpy.lib.function_base import percentile\n",
    "percentages = {}\n",
    "percentagerow = []\n",
    "\n",
    "for index, row in training_set.iterrows():\n",
    "  rowdomain = row[\"domain_name\"]\n",
    "  num = 0\n",
    "  lett = 0\n",
    "  for char in rowdomain:\n",
    "    if char.isalpha():\n",
    "      lett += 1\n",
    "    elif char.isnumeric():\n",
    "      num += 1\n",
    "  perc = round(num/(num+lett), 1)\n",
    "  percentagerow.append(perc)\n",
    "  if perc in percentages.keys():\n",
    "    percentages[perc] = percentages[perc] + 1\n",
    "  else:\n",
    "    percentages[perc] =  1\n",
    "\n",
    "for p in percentages:\n",
    "  print(p, percentages[p])"
   ],
   "metadata": {
    "colab": {
     "base_uri": "https://localhost:8080/"
    },
    "id": "ePDXCE3SkmQP",
    "outputId": "d63ab6b3-2620-4ae4-cbab-83f1d9734797"
   },
   "execution_count": null,
   "outputs": [
    {
     "output_type": "stream",
     "name": "stdout",
     "text": [
      "0.0 3962\n",
      "0.1 50\n",
      "0.5 624\n",
      "0.2 38\n",
      "0.3 20\n",
      "0.4 252\n",
      "0.7 87\n",
      "0.8 7\n"
     ]
    }
   ]
  },
  {
   "cell_type": "code",
   "source": [
    "from sklearn import preprocessing\n",
    "from sklearn.naive_bayes import GaussianNB\n",
    "le1 = preprocessing.LabelEncoder()\n",
    "url1 = le1.fit_transform(training_set[\"originalurl\"])\n",
    "countrylabel = le1.fit_transform(training_set[\"country\"])\n",
    "model1 = GaussianNB()\n",
    "model1.fit(url1.reshape(-1, 1), countrylabel)"
   ],
   "metadata": {
    "colab": {
     "base_uri": "https://localhost:8080/"
    },
    "id": "LOfC2Y_2tutz",
    "outputId": "2098f797-9c8c-493c-c106-41b41d0bb524"
   },
   "execution_count": null,
   "outputs": [
    {
     "output_type": "execute_result",
     "data": {
      "text/plain": [
       "GaussianNB()"
      ]
     },
     "metadata": {},
     "execution_count": 16
    }
   ]
  },
  {
   "cell_type": "code",
   "source": [
    "le2 = preprocessing.LabelEncoder()\n",
    "url2 = le2.fit_transform(training_set[\"originalurl\"])\n",
    "reglabel = le2.fit_transform(training_set[\"registrar\"])\n",
    "model2 = GaussianNB()\n",
    "model2.fit(url2.reshape(-1, 1), reglabel)"
   ],
   "metadata": {
    "colab": {
     "base_uri": "https://localhost:8080/"
    },
    "id": "7_t61UINxZa9",
    "outputId": "b6d8ea8b-cebe-424c-de3f-75dedc7627fa"
   },
   "execution_count": null,
   "outputs": [
    {
     "output_type": "execute_result",
     "data": {
      "text/plain": [
       "GaussianNB()"
      ]
     },
     "metadata": {},
     "execution_count": 17
    }
   ]
  },
  {
   "cell_type": "code",
   "source": [
    "le3 = preprocessing.LabelEncoder()\n",
    "url3 = le3.fit_transform(training_set[\"originalurl\"])\n",
    "dnslabel = le3.fit_transform(training_set[\"dnssec\"])\n",
    "model3 = GaussianNB()\n",
    "model3.fit(url3.reshape(-1, 1), dnslabel)"
   ],
   "metadata": {
    "colab": {
     "base_uri": "https://localhost:8080/"
    },
    "id": "ZV-HvnI5xpBx",
    "outputId": "b064f37a-8bd1-40d1-bf5e-463f3de3b1bf"
   },
   "execution_count": null,
   "outputs": [
    {
     "output_type": "execute_result",
     "data": {
      "text/plain": [
       "GaussianNB()"
      ]
     },
     "metadata": {},
     "execution_count": 18
    }
   ]
  },
  {
   "cell_type": "code",
   "source": [
    "le4 = preprocessing.LabelEncoder()\n",
    "url4 = le4.fit_transform(training_set[\"originalurl\"])\n",
    "percentlabel = le4.fit_transform(percentagerow)\n",
    "model4 = GaussianNB()\n",
    "model4.fit(url4.reshape(-1, 1), percentlabel)"
   ],
   "metadata": {
    "colab": {
     "base_uri": "https://localhost:8080/"
    },
    "id": "I8t04xM0x66I",
    "outputId": "3f7bf894-4f91-4d0f-8675-c212738c429a"
   },
   "execution_count": null,
   "outputs": [
    {
     "output_type": "execute_result",
     "data": {
      "text/plain": [
       "GaussianNB()"
      ]
     },
     "metadata": {},
     "execution_count": 19
    }
   ]
  }
 ],
 "metadata": {
  "colab": {
   "provenance": []
  },
  "kernelspec": {
   "display_name": "Python 3",
   "name": "python3"
  },
  "language_info": {
   "name": "python"
  }
 },
 "nbformat": 4,
 "nbformat_minor": 0
}
