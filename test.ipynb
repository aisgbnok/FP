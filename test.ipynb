{
 "cells": [
  {
   "cell_type": "markdown",
   "metadata": {
    "id": "bi9g4y3b8Na3"
   },
   "source": [
    "# T4 - Final Project\n",
    "\n",
    "Semester 2221, CSEC 520/620, Team 4\\\n",
    "Final Project - URL Classification\\\n",
    "Due by December 14, 2022 11:59 PM EST.\\\n",
    "Accounts for 18% of total grade."
   ]
  },
  {
   "cell_type": "code",
   "execution_count": null,
   "outputs": [],
   "source": [
    "# Ensure the WHOIS package is installed\n",
    "print(f'{\"\":#^{36}}\\n{\"## Installing Packages \":#<{36}}\\n{\"\":#^{36}}')\n",
    "!pip install python-whois\n",
    "\n",
    "print(f'\\n{\"\":#^{36}}\\n{\"## Updating Repository \":#<{36}}\\n{\"\":#^{36}}')\n",
    "# Download our repo, which contains the RAW datasets\n",
    "!git init\n",
    "!git remote add origin https://github.com/aisgbnok/T4-Project.git\n",
    "!git pull origin main --allow-unrelated-histories"
   ],
   "metadata": {
    "collapsed": false
   }
  },
  {
   "cell_type": "code",
   "execution_count": null,
   "metadata": {
    "id": "aBTTS1_y8-HY"
   },
   "outputs": [],
   "source": [
    "import os\n",
    "import pandas as pd\n",
    "import whois\n",
    "from functools import reduce\n",
    "from timeit import default_timer as timer"
   ]
  },
  {
   "cell_type": "code",
   "execution_count": null,
   "outputs": [],
   "source": [
    "start = timer()\n",
    "def load_data():\n",
    "\n",
    "  # Get all of our datasets\n",
    "  data_frames = []\n",
    "\n",
    "  for rt, dirs, files in os.walk(\"datasets\"):\n",
    "    files.remove(\"README.md\")\n",
    "    for f_name in files:\n",
    "      path = os.path.join(rt, f_name)\n",
    "      dataframe = pd.read_csv(path)\n",
    "      data_frames.append(dataframe)\n",
    "\n",
    "  # Rename our columns\n",
    "  for i in range(0, len(data_frames)):\n",
    "    display(data_frames[i])\n",
    "    data_frames[i].columns = data_frames[0].columns\n",
    "    display(data_frames[i])\n",
    "\n",
    "  return reduce(lambda x, y: pd.merge(x, y), data_frames)\n",
    "\n",
    "data = load_data()\n",
    "end = timer()\n",
    "print(end - start)\n",
    "\n",
    "display(data)"
   ],
   "metadata": {
    "collapsed": false
   }
  },
  {
   "cell_type": "code",
   "execution_count": null,
   "metadata": {
    "colab": {
     "base_uri": "https://localhost:8080/",
     "height": 424
    },
    "id": "fapHNhzsKRIE",
    "outputId": "9f4d64ca-4403-44b8-9ff8-82689e53c69b"
   },
   "outputs": [],
   "source": [
    "phish_files = pd.read_csv('malicious_phish.csv')\n",
    "display(phish_files)"
   ]
  },
  {
   "cell_type": "code",
   "execution_count": null,
   "metadata": {
    "colab": {
     "base_uri": "https://localhost:8080/",
     "height": 424
    },
    "id": "SX_sshIbMbmd",
    "outputId": "b6e2c3b5-3a21-4572-d380-36bb45088292"
   },
   "outputs": [],
   "source": [
    "mal_v_non = pd.read_csv('malicious_v_nonmalicious.csv')\n",
    "display(mal_v_non)"
   ]
  },
  {
   "cell_type": "code",
   "execution_count": null,
   "metadata": {
    "colab": {
     "base_uri": "https://localhost:8080/",
     "height": 424
    },
    "id": "Bd_BvqGoWcCf",
    "outputId": "455944b4-0ed2-4d81-c4eb-91cc310049dd"
   },
   "outputs": [],
   "source": [
    "# Merging the datasets, and removing the type column (for now)\n",
    "merged = pd.merge(phish_files, mal_v_non, how='outer', on='url')\n",
    "merged.loc[merged[\"type\"] == \"benign\", \"label\"] = \"good\"\n",
    "merged.loc[merged[\"type\"] != \"benign\", \"label\"] = \"bad\"\n",
    "merged = merged.drop(columns=[\"type\"])\n",
    "display(merged)"
   ]
  },
  {
   "cell_type": "code",
   "execution_count": null,
   "metadata": {
    "id": "-23UmvftFymN"
   },
   "outputs": [],
   "source": [
    "#multithreading the data set\n",
    "def multithreading():\n",
    "  perc = 0.0\n",
    "  threads = []\n",
    "  max_threads = 10\n",
    "  thread_num = 1\n",
    "  while perc < 1:\n",
    "    if len(threads) >= max_threads:\n",
    "      for thread in threads:\n",
    "        thread.join()\n",
    "        print(\"Thread \"+str(thread_num)+\" done\")\n",
    "        thread_num+=1\n",
    "    print(\"perc \"+str(perc))\n",
    "    thread = threading.Thread(target=checker, args=(perc*100, merged.iloc[int(perc*len(merged)):int((perc+0.01)*len(merged))]))\n",
    "    thread.start()\n",
    "    threads.append(thread)\n",
    "    perc = perc + 0.01"
   ]
  },
  {
   "cell_type": "code",
   "execution_count": null,
   "metadata": {
    "id": "sld7LbyH99_H"
   },
   "outputs": [],
   "source": [
    "#numsection -> the percent into the data that it is\n",
    "#data -> the data of the current section\n",
    "def checker(numsection, data):\n",
    "  rows = []\n",
    "  for index, row in data.iterrows():\n",
    "    w = None\n",
    "    try:\n",
    "      w = whois.whois(data.iloc[index][\"url\"])\n",
    "    except:\n",
    "      continue\n",
    "    if w.domain_name != \"null\" and w.domain_name is not None:\n",
    "      rowdict = {}\n",
    "      rowdict[\"originalurl\"] = data.iloc[index][\"url\"]\n",
    "      rowdict.update(dict(w))\n",
    "      rows.append(rowdict)\n",
    "  whoisframe = pd.DataFrame(rows)\n",
    "  whoisframe.to_csv('csv/whoisdata' + str(numsection) + '.csv')\n",
    "  print(\"csv made\")"
   ]
  },
  {
   "cell_type": "code",
   "execution_count": null,
   "metadata": {
    "id": "D17LNlWURSxW"
   },
   "outputs": [],
   "source": [
    "#multithreading()"
   ]
  },
  {
   "cell_type": "code",
   "execution_count": null,
   "metadata": {
    "colab": {
     "base_uri": "https://localhost:8080/"
    },
    "id": "QGBK5Xm71NnU",
    "outputId": "03d2b259-fb8e-41b5-c107-30164fadca0b"
   },
   "outputs": [],
   "source": [
    "os.chdir('/content/drive/Shareddrives/CSEC 620 Group 4/Final Project/csv')\n",
    "filelist = os.listdir('.')\n",
    "newframe = pd.DataFrame()\n",
    "for f in filelist:\n",
    "  if f.find('whoisdata') == 0:\n",
    "    currentframe = pd.read_csv(f)\n",
    "    newframe = pd.concat([newframe, currentframe], ignore_index=True)"
   ]
  },
  {
   "cell_type": "code",
   "execution_count": null,
   "metadata": {
    "colab": {
     "base_uri": "https://localhost:8080/"
    },
    "id": "_v_EXRYy5kwB",
    "outputId": "b7bc9ab7-987d-4291-f8a7-c5c6ce46bb53"
   },
   "outputs": [],
   "source": [
    "nummal = 0\n",
    "numbenign = 0\n",
    "for index, row in newframe.iterrows():\n",
    "  thisurl = row[\"originalurl\"]\n",
    "  mergedrow = merged.loc[merged[\"url\"] == thisurl]\n",
    "  benigncheck = mergedrow.iloc[0][\"label\"]\n",
    "  if benigncheck == \"good\":\n",
    "    numbenign = numbenign + 1\n",
    "  else:\n",
    "    nummal = nummal + 1\n",
    "print(nummal)\n",
    "print(numbenign)"
   ]
  },
  {
   "cell_type": "markdown",
   "source": [
    "# Splitting the data set"
   ],
   "metadata": {
    "id": "z9GkMk4Rsh8C"
   }
  },
  {
   "cell_type": "code",
   "source": [
    "splitVal = int(len(newframe)*.2)\n",
    "testing_set = newframe.iloc[:splitVal,]\n",
    "training_set = newframe.iloc[splitVal:,]"
   ],
   "metadata": {
    "id": "EVTNVs34qiMy"
   },
   "execution_count": null,
   "outputs": []
  },
  {
   "cell_type": "code",
   "source": [
    "countries = {}\n",
    "for index, row in training_set.iterrows():\n",
    "  rowcountry = row[\"country\"]\n",
    "  if rowcountry in countries.keys():\n",
    "    countries[rowcountry] = countries[rowcountry] + 1\n",
    "  else:\n",
    "    countries[rowcountry] = 1\n",
    "\n",
    "for c in countries:\n",
    "  print(c, countries[c])"
   ],
   "metadata": {
    "colab": {
     "base_uri": "https://localhost:8080/"
    },
    "id": "BR4f17jNYbSF",
    "outputId": "93fe00fb-b6d1-4de1-e060-12c081a26981"
   },
   "execution_count": null,
   "outputs": []
  },
  {
   "cell_type": "code",
   "source": [
    "regs = {}\n",
    "for index, row in training_set.iterrows():\n",
    "  rowreg = row[\"registrar\"]\n",
    "  if rowreg in regs.keys():\n",
    "    regs[rowreg] = regs[rowreg] + 1\n",
    "  else:\n",
    "    regs[rowreg] = 1\n",
    "\n",
    "for r in regs:\n",
    "  print(r, regs[r])"
   ],
   "metadata": {
    "colab": {
     "base_uri": "https://localhost:8080/"
    },
    "outputId": "ac9567d8-bf16-4f50-98ea-555ec3dbe5fe",
    "id": "nqErv3frel3j"
   },
   "execution_count": null,
   "outputs": []
  },
  {
   "cell_type": "code",
   "source": [
    "dns = {}\n",
    "for index, row in training_set.iterrows():\n",
    "  rowdns = row[\"dnssec\"]\n",
    "  if rowdns in dns.keys():\n",
    "    dns[rowdns] = dns[rowdns] + 1\n",
    "  elif 'unsigned' in str(rowdns).lower() and (rowdns != 'unsigned'):\n",
    "    dns[\"unsigned\"] = dns[\"unsigned\"] + 1\n",
    "  else:\n",
    "    dns[rowdns] = 1\n",
    "\n",
    "for r in dns:\n",
    "  print(r, dns[r])"
   ],
   "metadata": {
    "colab": {
     "base_uri": "https://localhost:8080/"
    },
    "id": "eSGb60Upht_p",
    "outputId": "2b94d6eb-007a-49ec-b0e0-5b1561da14f6"
   },
   "execution_count": null,
   "outputs": []
  },
  {
   "cell_type": "code",
   "source": [
    "from numpy.lib.function_base import percentile\n",
    "percentages = {}\n",
    "percentagerow = []\n",
    "\n",
    "for index, row in training_set.iterrows():\n",
    "  rowdomain = row[\"domain_name\"]\n",
    "  num = 0\n",
    "  lett = 0\n",
    "  for char in rowdomain:\n",
    "    if char.isalpha():\n",
    "      lett += 1\n",
    "    elif char.isnumeric():\n",
    "      num += 1\n",
    "  perc = round(num/(num+lett), 1)\n",
    "  percentagerow.append(perc)\n",
    "  if perc in percentages.keys():\n",
    "    percentages[perc] = percentages[perc] + 1\n",
    "  else:\n",
    "    percentages[perc] =  1\n",
    "\n",
    "for p in percentages:\n",
    "  print(p, percentages[p])"
   ],
   "metadata": {
    "colab": {
     "base_uri": "https://localhost:8080/"
    },
    "id": "ePDXCE3SkmQP",
    "outputId": "b53c3c72-707a-40b8-97d0-b2a9dffbb4f2"
   },
   "execution_count": null,
   "outputs": []
  },
  {
   "cell_type": "code",
   "source": [
    "from sklearn import preprocessing\n",
    "from sklearn.naive_bayes import GaussianNB\n",
    "le1 = preprocessing.LabelEncoder()\n",
    "url1 = le1.fit_transform(training_set[\"originalurl\"])\n",
    "countrylabel = le1.fit_transform(training_set[\"country\"])\n",
    "model1 = GaussianNB()\n",
    "model1.fit(url1.reshape(-1, 1), countrylabel)"
   ],
   "metadata": {
    "colab": {
     "base_uri": "https://localhost:8080/"
    },
    "id": "LOfC2Y_2tutz",
    "outputId": "dc45c98c-9589-4ce7-98ff-f12b5f0de3b8"
   },
   "execution_count": null,
   "outputs": []
  },
  {
   "cell_type": "code",
   "source": [
    "le2 = preprocessing.LabelEncoder()\n",
    "url2 = le2.fit_transform(training_set[\"originalurl\"])\n",
    "reglabel = le2.fit_transform(training_set[\"registrar\"])\n",
    "model2 = GaussianNB()\n",
    "model2.fit(url2.reshape(-1, 1), reglabel)"
   ],
   "metadata": {
    "colab": {
     "base_uri": "https://localhost:8080/"
    },
    "id": "7_t61UINxZa9",
    "outputId": "657fcef7-78c9-4b20-90fc-2597d143859c"
   },
   "execution_count": null,
   "outputs": []
  },
  {
   "cell_type": "code",
   "source": [
    "le3 = preprocessing.LabelEncoder()\n",
    "url3 = le3.fit_transform(training_set[\"originalurl\"])\n",
    "dnslabel = le3.fit_transform(training_set[\"dnssec\"])\n",
    "model3 = GaussianNB()\n",
    "model3.fit(url3.reshape(-1, 1), dnslabel)"
   ],
   "metadata": {
    "colab": {
     "base_uri": "https://localhost:8080/"
    },
    "id": "ZV-HvnI5xpBx",
    "outputId": "f27ba13f-89b9-474d-ce8b-2a76cd8f8e8f"
   },
   "execution_count": null,
   "outputs": []
  },
  {
   "cell_type": "code",
   "source": [
    "le4 = preprocessing.LabelEncoder()\n",
    "url4 = le4.fit_transform(training_set[\"originalurl\"])\n",
    "percentlabel = le4.fit_transform(percentagerow)\n",
    "model4 = GaussianNB()\n",
    "model4.fit(url4.reshape(-1, 1), percentlabel)"
   ],
   "metadata": {
    "colab": {
     "base_uri": "https://localhost:8080/"
    },
    "id": "I8t04xM0x66I",
    "outputId": "9897fbf0-24e0-4a6c-b913-643613af5db7"
   },
   "execution_count": null,
   "outputs": []
  }
 ],
 "metadata": {
  "colab": {
   "provenance": []
  },
  "kernelspec": {
   "display_name": "Python 3",
   "name": "python3"
  },
  "language_info": {
   "name": "python"
  }
 },
 "nbformat": 4,
 "nbformat_minor": 0
}
